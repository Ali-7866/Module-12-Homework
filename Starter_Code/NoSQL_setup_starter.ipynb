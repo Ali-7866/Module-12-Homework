{
 "cells": [
  {
   "cell_type": "markdown",
   "id": "9a57c4c6",
   "metadata": {},
   "source": [
    "# Eat Safe, Love"
   ]
  },
  {
   "cell_type": "markdown",
   "id": "064ef857",
   "metadata": {},
   "source": [
    "## Part 1: Database and Jupyter Notebook Set Up"
   ]
  },
  {
   "cell_type": "markdown",
   "id": "664e3c1f",
   "metadata": {},
   "source": [
    "Import the data provided in the `establishments.json` file from your Terminal. Name the database `uk_food` and the collection `establishments`.\n",
    "\n",
    "Within this markdown cell, copy the line of text you used to import the data from your Terminal. This way, future analysts will be able to repeat your process.\n",
    "\n",
    "e.g.: Import the dataset with `YOUR IMPORT TEXT HERE`"
   ]
  },
  {
   "cell_type": "code",
   "execution_count": 1,
   "id": "3ecdd008",
   "metadata": {},
   "outputs": [],
   "source": [
    "# Import dependencies\n",
    "from pymongo import MongoClient\n",
    "from pprint import pprint"
   ]
  },
  {
   "cell_type": "code",
   "execution_count": 2,
   "id": "59390c4a",
   "metadata": {},
   "outputs": [],
   "source": [
    "# Create an instance of MongoClient\n",
    "mongo = MongoClient(port=27017)"
   ]
  },
  {
   "cell_type": "code",
   "execution_count": 3,
   "id": "7f9ececa",
   "metadata": {},
   "outputs": [
    {
     "name": "stdout",
     "output_type": "stream",
     "text": [
      "['admin', 'config', 'local']\n"
     ]
    }
   ],
   "source": [
    "# confirm that our new database was created\n",
    "# Import MongoClient from pymongo\n",
    "from pymongo import MongoClient\n",
    "\n",
    "# Connect to MongoDB\n",
    "client = MongoClient(\"localhost\", 27017)\n",
    "\n",
    "# List available databases\n",
    "print(client.list_database_names())\n"
   ]
  },
  {
   "cell_type": "code",
   "execution_count": 4,
   "id": "71e373c1",
   "metadata": {},
   "outputs": [],
   "source": [
    "# assign the uk_food database to a variable name\n",
    "db = mongo['uk_food']"
   ]
  },
  {
   "cell_type": "code",
   "execution_count": 5,
   "id": "ef1b89ed",
   "metadata": {},
   "outputs": [
    {
     "name": "stdout",
     "output_type": "stream",
     "text": [
      "[]\n"
     ]
    }
   ],
   "source": [
    "# review the collections in our new database\n",
    "# Select your new database\n",
    "db = client['your_database_name']\n",
    "\n",
    "# List collections in the database\n",
    "print(db.list_collection_names())\n"
   ]
  },
  {
   "cell_type": "code",
   "execution_count": 6,
   "id": "18ab463c",
   "metadata": {},
   "outputs": [
    {
     "name": "stdout",
     "output_type": "stream",
     "text": [
      "Collections in the database:\n"
     ]
    }
   ],
   "source": [
    "# review the collections in our new database\n",
    "# Import MongoClient from pymongo\n",
    "from pymongo import MongoClient\n",
    "\n",
    "# Connect to MongoDB\n",
    "client = MongoClient(\"localhost\", 27017)\n",
    "\n",
    "# Select your new database\n",
    "db = client['your_database_name']\n",
    "\n",
    "# List collections in the database\n",
    "collections = db.list_collection_names()\n",
    "\n",
    "# Print the list of collections\n",
    "print(\"Collections in the database:\")\n",
    "for collection in collections:\n",
    "    print(collection)\n"
   ]
  },
  {
   "cell_type": "code",
   "execution_count": 7,
   "id": "6a0d92df",
   "metadata": {},
   "outputs": [
    {
     "name": "stdout",
     "output_type": "stream",
     "text": [
      "Document in the establishments collection:\n",
      "None\n"
     ]
    }
   ],
   "source": [
    "# review a document in the establishments collection\n",
    "# Select the establishments collection\n",
    "establishments_collection = db['establishments']\n",
    "\n",
    "# Find a single document in the collection\n",
    "document = establishments_collection.find_one()\n",
    "\n",
    "# Print the document\n",
    "print(\"Document in the establishments collection:\")\n",
    "print(document)\n"
   ]
  },
  {
   "cell_type": "code",
   "execution_count": 8,
   "id": "11c9f11b",
   "metadata": {},
   "outputs": [],
   "source": [
    "# assign the collection to a variable\n",
    "establishments = db['establishments']"
   ]
  },
  {
   "cell_type": "markdown",
   "id": "d5671434",
   "metadata": {},
   "source": [
    "## Part 2: Update the Database"
   ]
  },
  {
   "cell_type": "markdown",
   "id": "314bd884",
   "metadata": {},
   "source": [
    "1. An exciting new halal restaurant just opened in Greenwich, but hasn't been rated yet. The magazine has asked you to include it in your analysis. Add the following restaurant \"Penang Flavours\" to the database."
   ]
  },
  {
   "cell_type": "code",
   "execution_count": 9,
   "id": "c2da7648",
   "metadata": {},
   "outputs": [],
   "source": [
    "# Create a dictionary for the new restaurant data\n",
    "new_restaurant_data = {\n",
    "    \"name\": \"New Restaurant\",\n",
    "    \"address\": \"123 Main St\",\n",
    "    \"city\": \"London\",\n",
    "    \"postcode\": \"SW1A 1AA\",\n",
    "    \"hygiene_score\": 4,\n",
    "    \"rating_value\": 4.5,\n",
    "    \"local_authority\": \"City of London\",\n",
    "    \"latitude\": 51.5074,\n",
    "    \"longitude\": -0.1278\n",
    "}\n"
   ]
  },
  {
   "cell_type": "code",
   "execution_count": 10,
   "id": "a6e5cece",
   "metadata": {},
   "outputs": [
    {
     "name": "stdout",
     "output_type": "stream",
     "text": [
      "Inserted document ID: 665f6aab11ad5c6d4ed825f1\n"
     ]
    }
   ],
   "source": [
    "# Insert the new restaurant into the collection\n",
    "# Insert the new restaurant data into the collection\n",
    "insert_result = establishments_collection.insert_one(new_restaurant_data)\n",
    "\n",
    "# Print the inserted document ID\n",
    "print(\"Inserted document ID:\", insert_result.inserted_id)\n"
   ]
  },
  {
   "cell_type": "code",
   "execution_count": 11,
   "id": "63bb10f9",
   "metadata": {},
   "outputs": [
    {
     "name": "stdout",
     "output_type": "stream",
     "text": [
      "New restaurant found:\n",
      "{'_id': ObjectId('665f6aab11ad5c6d4ed825f1'), 'name': 'New Restaurant', 'address': '123 Main St', 'city': 'London', 'postcode': 'SW1A 1AA', 'hygiene_score': 4, 'rating_value': 4.5, 'local_authority': 'City of London', 'latitude': 51.5074, 'longitude': -0.1278}\n"
     ]
    }
   ],
   "source": [
    "# Check that the new restaurant was inserted\n",
    "# Find the document with the same name as the new restaurant\n",
    "query = {\"name\": \"New Restaurant\"}\n",
    "inserted_document = establishments_collection.find_one(query)\n",
    "\n",
    "if inserted_document:\n",
    "    print(\"New restaurant found:\")\n",
    "    print(inserted_document)\n",
    "else:\n",
    "    print(\"New restaurant not found.\")\n"
   ]
  },
  {
   "cell_type": "markdown",
   "id": "0ef4395a",
   "metadata": {},
   "source": [
    "2. Find the BusinessTypeID for \"Restaurant/Cafe/Canteen\" and return only the `BusinessTypeID` and `BusinessType` fields."
   ]
  },
  {
   "cell_type": "code",
   "execution_count": 12,
   "id": "93c63829",
   "metadata": {},
   "outputs": [
    {
     "name": "stdout",
     "output_type": "stream",
     "text": [
      "None\n"
     ]
    }
   ],
   "source": [
    "# Find the BusinessTypeID for \"Restaurant/Cafe/Canteen\" and return only the BusinessTypeID and BusinessType fields\n",
    "# Define the query\n",
    "query = {\"BusinessType\": \"Restaurant/Cafe/Canteen\"}\n",
    "\n",
    "# Projection to include only BusinessTypeID and BusinessType fields\n",
    "projection = {\"BusinessTypeID\": 1, \"BusinessType\": 1, \"_id\": 0}\n",
    "\n",
    "# Execute the query\n",
    "result = db.business_types.find_one(query, projection)\n",
    "\n",
    "# Print the result\n",
    "print(result)\n"
   ]
  },
  {
   "cell_type": "markdown",
   "id": "4e570caf",
   "metadata": {},
   "source": [
    "3. Update the new restaurant with the `BusinessTypeID` you found."
   ]
  },
  {
   "cell_type": "code",
   "execution_count": 13,
   "id": "7f599f3d",
   "metadata": {},
   "outputs": [
    {
     "name": "stdout",
     "output_type": "stream",
     "text": [
      "BusinessTypeID for 'Restaurant/Cafe/Canteen' not found.\n"
     ]
    }
   ],
   "source": [
    "# Update the new restaurant with the correct BusinessTypeID\n",
    "# Find the BusinessTypeID for \"Restaurant/Cafe/Canteen\"\n",
    "query = {\"BusinessType\": \"Restaurant/Cafe/Canteen\"}\n",
    "projection = {\"BusinessTypeID\": 1, \"_id\": 0}\n",
    "business_type = db.business_types.find_one(query, projection)\n",
    "\n",
    "if business_type:\n",
    "    # Get the BusinessTypeID\n",
    "    business_type_id = business_type[\"BusinessTypeID\"]\n",
    "    \n",
    "    # Update the new restaurant document with the correct BusinessTypeID\n",
    "    update_query = {\"name\": \"New Restaurant\"}  # Adjust the query as needed\n",
    "    update_values = {\"$set\": {\"BusinessTypeID\": business_type_id}}\n",
    "    \n",
    "    # Execute the update operation\n",
    "    update_result = establishments_collection.update_one(update_query, update_values)\n",
    "    \n",
    "    # Check if the update was successful\n",
    "    if update_result.modified_count > 0:\n",
    "        print(\"New restaurant updated with the correct BusinessTypeID.\")\n",
    "    else:\n",
    "        print(\"No matching restaurant found for update.\")\n",
    "else:\n",
    "    print(\"BusinessTypeID for 'Restaurant/Cafe/Canteen' not found.\")\n"
   ]
  },
  {
   "cell_type": "code",
   "execution_count": 14,
   "id": "a6ad16f7",
   "metadata": {},
   "outputs": [
    {
     "name": "stdout",
     "output_type": "stream",
     "text": [
      "Updated restaurant:\n",
      "{'_id': ObjectId('665f6aab11ad5c6d4ed825f1'), 'name': 'New Restaurant', 'address': '123 Main St', 'city': 'London', 'postcode': 'SW1A 1AA', 'hygiene_score': 4, 'rating_value': 4.5, 'local_authority': 'City of London', 'latitude': 51.5074, 'longitude': -0.1278}\n"
     ]
    }
   ],
   "source": [
    "# Confirm that the new restaurant was updated\n",
    "# Find the updated restaurant document\n",
    "updated_restaurant = establishments_collection.find_one({\"name\": \"New Restaurant\"})\n",
    "\n",
    "# Check if the document was found and print the BusinessTypeID\n",
    "if updated_restaurant:\n",
    "    print(\"Updated restaurant:\")\n",
    "    print(updated_restaurant)\n",
    "else:\n",
    "    print(\"New restaurant not found.\")\n"
   ]
  },
  {
   "cell_type": "markdown",
   "id": "67281254",
   "metadata": {},
   "source": [
    "4. The magazine is not interested in any establishments in Dover, so check how many documents contain the Dover Local Authority. Then, remove any establishments within the Dover Local Authority from the database, and check the number of documents to ensure they were deleted."
   ]
  },
  {
   "cell_type": "code",
   "execution_count": 15,
   "id": "768474a6",
   "metadata": {},
   "outputs": [
    {
     "name": "stdout",
     "output_type": "stream",
     "text": [
      "Number of documents with LocalAuthorityName as 'Dover': 0\n"
     ]
    }
   ],
   "source": [
    "# Find how many documents have LocalAuthorityName as \"Dover\"\n",
    "# Define the query\n",
    "query = {\"LocalAuthorityName\": \"Dover\"}\n",
    "\n",
    "# Count the documents matching the query\n",
    "count = establishments_collection.count_documents(query)\n",
    "\n",
    "# Print the count\n",
    "print(\"Number of documents with LocalAuthorityName as 'Dover':\", count)\n"
   ]
  },
  {
   "cell_type": "code",
   "execution_count": 16,
   "id": "a11d5f1b",
   "metadata": {},
   "outputs": [
    {
     "name": "stdout",
     "output_type": "stream",
     "text": [
      "Number of documents deleted: 0\n"
     ]
    }
   ],
   "source": [
    "# Delete all documents where LocalAuthorityName is \"Dover\"\n",
    "# Define the query\n",
    "query = {\"LocalAuthorityName\": \"Dover\"}\n",
    "\n",
    "# Delete the documents matching the query\n",
    "delete_result = establishments_collection.delete_many(query)\n",
    "\n",
    "# Print the number of documents deleted\n",
    "print(\"Number of documents deleted:\", delete_result.deleted_count)\n"
   ]
  },
  {
   "cell_type": "code",
   "execution_count": 17,
   "id": "2a51aba0",
   "metadata": {},
   "outputs": [
    {
     "name": "stdout",
     "output_type": "stream",
     "text": [
      "No documents with LocalAuthorityName as 'Dover' remaining.\n"
     ]
    }
   ],
   "source": [
    "# Check if any remaining documents include Dover\n",
    "# Define the query to check if any documents include Dover\n",
    "query = {\"LocalAuthorityName\": \"Dover\"}\n",
    "\n",
    "# Count the documents matching the query\n",
    "count = establishments_collection.count_documents(query)\n",
    "\n",
    "# Check if any documents include Dover and print the result\n",
    "if count > 0:\n",
    "    print(\"There are still documents with LocalAuthorityName as 'Dover'.\")\n",
    "else:\n",
    "    print(\"No documents with LocalAuthorityName as 'Dover' remaining.\")\n"
   ]
  },
  {
   "cell_type": "code",
   "execution_count": 18,
   "id": "8c356f7b",
   "metadata": {},
   "outputs": [
    {
     "name": "stdout",
     "output_type": "stream",
     "text": [
      "At least one document remains in the collection.\n"
     ]
    }
   ],
   "source": [
    "# Check that other documents remain with 'find_one'\n",
    "# Find a single document in the collection\n",
    "remaining_document = establishments_collection.find_one()\n",
    "\n",
    "# Check if any document remains and print the result\n",
    "if remaining_document:\n",
    "    print(\"At least one document remains in the collection.\")\n",
    "else:\n",
    "    print(\"No documents remain in the collection.\")\n"
   ]
  },
  {
   "attachments": {},
   "cell_type": "markdown",
   "id": "e9f1662d",
   "metadata": {},
   "source": [
    "5. Some of the number values are stored as strings, when they should be stored as numbers."
   ]
  },
  {
   "attachments": {},
   "cell_type": "markdown",
   "id": "c46df2df",
   "metadata": {},
   "source": [
    "Use `update_many` to convert `latitude` and `longitude` to decimal numbers."
   ]
  },
  {
   "cell_type": "code",
   "execution_count": 25,
   "id": "fd4112ce",
   "metadata": {},
   "outputs": [],
   "source": [
    "# Change the data type from String to Decimal for longitude and latitude\n",
    "\n"
   ]
  },
  {
   "attachments": {},
   "cell_type": "markdown",
   "id": "142e319c",
   "metadata": {},
   "source": [
    "Use `update_many` to convert `RatingValue` to integer numbers."
   ]
  },
  {
   "cell_type": "code",
   "execution_count": 26,
   "id": "04430a5b",
   "metadata": {},
   "outputs": [
    {
     "data": {
      "text/plain": [
       "UpdateResult({'n': 0, 'nModified': 0, 'ok': 1.0, 'updatedExisting': False}, acknowledged=True)"
      ]
     },
     "execution_count": 26,
     "metadata": {},
     "output_type": "execute_result"
    }
   ],
   "source": [
    "# Set non 1-5 Rating Values to Null\n",
    "non_ratings = [\"AwaitingInspection\", \"Awaiting Inspection\", \"AwaitingPublication\", \"Pass\", \"Exempt\"]\n",
    "establishments.update_many({\"RatingValue\": {\"$in\": non_ratings}}, [ {'$set':{ \"RatingValue\" : None}} ])"
   ]
  },
  {
   "cell_type": "code",
   "execution_count": 27,
   "id": "92524ccc",
   "metadata": {},
   "outputs": [
    {
     "ename": "KeyError",
     "evalue": "'RatingValue'",
     "output_type": "error",
     "traceback": [
      "\u001b[1;31m---------------------------------------------------------------------------\u001b[0m",
      "\u001b[1;31mKeyError\u001b[0m                                  Traceback (most recent call last)",
      "Cell \u001b[1;32mIn[27], line 8\u001b[0m\n\u001b[0;32m      5\u001b[0m \u001b[38;5;66;03m# Iterate over each document and update the data type of RatingValue field\u001b[39;00m\n\u001b[0;32m      6\u001b[0m \u001b[38;5;28;01mfor\u001b[39;00m doc \u001b[38;5;129;01min\u001b[39;00m documents:\n\u001b[0;32m      7\u001b[0m     \u001b[38;5;66;03m# Convert RatingValue from string to integer\u001b[39;00m\n\u001b[1;32m----> 8\u001b[0m     rating_value \u001b[38;5;241m=\u001b[39m \u001b[38;5;28mint\u001b[39m(\u001b[43mdoc\u001b[49m\u001b[43m[\u001b[49m\u001b[38;5;124;43m\"\u001b[39;49m\u001b[38;5;124;43mRatingValue\u001b[39;49m\u001b[38;5;124;43m\"\u001b[39;49m\u001b[43m]\u001b[49m)\n\u001b[0;32m     10\u001b[0m     \u001b[38;5;66;03m# Update the document with the new data type\u001b[39;00m\n\u001b[0;32m     11\u001b[0m     update_query \u001b[38;5;241m=\u001b[39m {\u001b[38;5;124m\"\u001b[39m\u001b[38;5;124m_id\u001b[39m\u001b[38;5;124m\"\u001b[39m: doc[\u001b[38;5;124m\"\u001b[39m\u001b[38;5;124m_id\u001b[39m\u001b[38;5;124m\"\u001b[39m]}\n",
      "\u001b[1;31mKeyError\u001b[0m: 'RatingValue'"
     ]
    }
   ],
   "source": [
    "# Change the data type from String to Integer for RatingValue\n",
    "# Find all documents in the collection\n",
    "documents = establishments_collection.find()\n",
    "\n",
    "# Iterate over each document and update the data type of RatingValue field\n",
    "for doc in documents:\n",
    "    # Convert RatingValue from string to integer\n",
    "    rating_value = int(doc[\"RatingValue\"])\n",
    "    \n",
    "    # Update the document with the new data type\n",
    "    update_query = {\"_id\": doc[\"_id\"]}\n",
    "    update_values = {\"$set\": {\"RatingValue\": rating_value}}\n",
    "    \n",
    "    # Update the document in the collection\n",
    "    establishments_collection.update_one(update_query, update_values)\n",
    "\n",
    "print(\"Data type conversion completed.\")\n"
   ]
  },
  {
   "cell_type": "code",
   "execution_count": 28,
   "id": "0deacaf9",
   "metadata": {},
   "outputs": [
    {
     "name": "stdout",
     "output_type": "stream",
     "text": [
      "Displaying 5 documents:\n"
     ]
    },
    {
     "ename": "KeyError",
     "evalue": "'RatingValue'",
     "output_type": "error",
     "traceback": [
      "\u001b[1;31m---------------------------------------------------------------------------\u001b[0m",
      "\u001b[1;31mKeyError\u001b[0m                                  Traceback (most recent call last)",
      "Cell \u001b[1;32mIn[28], line 8\u001b[0m\n\u001b[0;32m      6\u001b[0m \u001b[38;5;28mprint\u001b[39m(\u001b[38;5;124mf\u001b[39m\u001b[38;5;124m\"\u001b[39m\u001b[38;5;124mDisplaying \u001b[39m\u001b[38;5;132;01m{\u001b[39;00mnum_documents_to_display\u001b[38;5;132;01m}\u001b[39;00m\u001b[38;5;124m documents:\u001b[39m\u001b[38;5;124m\"\u001b[39m)\n\u001b[0;32m      7\u001b[0m \u001b[38;5;28;01mfor\u001b[39;00m doc \u001b[38;5;129;01min\u001b[39;00m documents:\n\u001b[1;32m----> 8\u001b[0m     \u001b[38;5;28mprint\u001b[39m(\u001b[38;5;124m\"\u001b[39m\u001b[38;5;124mLongitude:\u001b[39m\u001b[38;5;124m\"\u001b[39m, doc[\u001b[38;5;124m\"\u001b[39m\u001b[38;5;124mlongitude\u001b[39m\u001b[38;5;124m\"\u001b[39m], \u001b[38;5;124m\"\u001b[39m\u001b[38;5;124m- Latitude:\u001b[39m\u001b[38;5;124m\"\u001b[39m, doc[\u001b[38;5;124m\"\u001b[39m\u001b[38;5;124mlatitude\u001b[39m\u001b[38;5;124m\"\u001b[39m], \u001b[38;5;124m\"\u001b[39m\u001b[38;5;124m- RatingValue:\u001b[39m\u001b[38;5;124m\"\u001b[39m, \u001b[43mdoc\u001b[49m\u001b[43m[\u001b[49m\u001b[38;5;124;43m\"\u001b[39;49m\u001b[38;5;124;43mRatingValue\u001b[39;49m\u001b[38;5;124;43m\"\u001b[39;49m\u001b[43m]\u001b[49m)\n",
      "\u001b[1;31mKeyError\u001b[0m: 'RatingValue'"
     ]
    }
   ],
   "source": [
    "# Check that the coordinates and rating value are now numbers\n",
    "# Find and print a few documents from the collection\n",
    "num_documents_to_display = 5\n",
    "documents = establishments_collection.find().limit(num_documents_to_display)\n",
    "\n",
    "print(f\"Displaying {num_documents_to_display} documents:\")\n",
    "for doc in documents:\n",
    "    print(\"Longitude:\", doc[\"longitude\"], \"- Latitude:\", doc[\"latitude\"], \"- RatingValue:\", doc[\"RatingValue\"])\n"
   ]
  }
 ],
 "metadata": {
  "kernelspec": {
   "display_name": "Python 3 (ipykernel)",
   "language": "python",
   "name": "python3"
  },
  "language_info": {
   "codemirror_mode": {
    "name": "ipython",
    "version": 3
   },
   "file_extension": ".py",
   "mimetype": "text/x-python",
   "name": "python",
   "nbconvert_exporter": "python",
   "pygments_lexer": "ipython3",
   "version": "3.10.14"
  }
 },
 "nbformat": 4,
 "nbformat_minor": 5
}
